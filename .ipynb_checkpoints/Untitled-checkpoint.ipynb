{
 "cells": [
  {
   "cell_type": "markdown",
   "id": "9cbd5502-334f-4ebe-b728-d033f30b0d99",
   "metadata": {},
   "source": [
    "# Analyzing Player Retention\n",
    "\n",
    "This project will examine the mobile puzzle game Cookie Cats. At certain points of the game, a player will occasionally encounter a gate that forces them to wait for a period of time or make an in app purchase to progress further. This is a strategy intended to enhance overall enjoyment by pacing the gameplay and giving players an enforced break from playing the game. \n",
    "\n",
    "Where should the gate be placed? Initially, the gate was placed at level 30 but the company wanted to conduct an A/B Test where the gate was moved from level 30 to level 40 to test for player retention. When a player installed the game, they were randomly assigned to either gate 30 or gate 40. Our tests will be a bootstrap, Chi-Squared Test, and Bayesian AB Test using a significance level of 0.05 throughout."
   ]
  },
  {
   "cell_type": "code",
   "execution_count": 2,
   "id": "ae121838-dfab-4cec-8d8f-764c49da4f53",
   "metadata": {},
   "outputs": [],
   "source": [
    "# import necessary libraries\n",
    "import pandas as pd\n",
    "import numpy as np\n",
    "import matplotlib.pyplot as plt\n",
    "import seaborn as sns\n",
    "import scipy.stats as stats"
   ]
  },
  {
   "cell_type": "markdown",
   "id": "ee038b54-606c-4f86-92b3-d93411c22e2c",
   "metadata": {},
   "source": [
    "## Data Cleaning and EDA\n",
    "\n",
    "First, we will load in the dataset and explore it to better understand what we are working with."
   ]
  },
  {
   "cell_type": "code",
   "execution_count": 3,
   "id": "8821b4a4-f64e-4b70-a6b8-d551373d27aa",
   "metadata": {},
   "outputs": [
    {
     "data": {
      "text/html": [
       "<div>\n",
       "<style scoped>\n",
       "    .dataframe tbody tr th:only-of-type {\n",
       "        vertical-align: middle;\n",
       "    }\n",
       "\n",
       "    .dataframe tbody tr th {\n",
       "        vertical-align: top;\n",
       "    }\n",
       "\n",
       "    .dataframe thead th {\n",
       "        text-align: right;\n",
       "    }\n",
       "</style>\n",
       "<table border=\"1\" class=\"dataframe\">\n",
       "  <thead>\n",
       "    <tr style=\"text-align: right;\">\n",
       "      <th></th>\n",
       "      <th>userid</th>\n",
       "      <th>version</th>\n",
       "      <th>sum_gamerounds</th>\n",
       "      <th>retention_1</th>\n",
       "      <th>retention_7</th>\n",
       "    </tr>\n",
       "  </thead>\n",
       "  <tbody>\n",
       "    <tr>\n",
       "      <th>0</th>\n",
       "      <td>116</td>\n",
       "      <td>gate_30</td>\n",
       "      <td>3</td>\n",
       "      <td>False</td>\n",
       "      <td>False</td>\n",
       "    </tr>\n",
       "    <tr>\n",
       "      <th>1</th>\n",
       "      <td>337</td>\n",
       "      <td>gate_30</td>\n",
       "      <td>38</td>\n",
       "      <td>True</td>\n",
       "      <td>False</td>\n",
       "    </tr>\n",
       "    <tr>\n",
       "      <th>2</th>\n",
       "      <td>377</td>\n",
       "      <td>gate_40</td>\n",
       "      <td>165</td>\n",
       "      <td>True</td>\n",
       "      <td>False</td>\n",
       "    </tr>\n",
       "    <tr>\n",
       "      <th>3</th>\n",
       "      <td>483</td>\n",
       "      <td>gate_40</td>\n",
       "      <td>1</td>\n",
       "      <td>False</td>\n",
       "      <td>False</td>\n",
       "    </tr>\n",
       "    <tr>\n",
       "      <th>4</th>\n",
       "      <td>488</td>\n",
       "      <td>gate_40</td>\n",
       "      <td>179</td>\n",
       "      <td>True</td>\n",
       "      <td>True</td>\n",
       "    </tr>\n",
       "  </tbody>\n",
       "</table>\n",
       "</div>"
      ],
      "text/plain": [
       "   userid  version  sum_gamerounds  retention_1  retention_7\n",
       "0     116  gate_30               3        False        False\n",
       "1     337  gate_30              38         True        False\n",
       "2     377  gate_40             165         True        False\n",
       "3     483  gate_40               1        False        False\n",
       "4     488  gate_40             179         True         True"
      ]
     },
     "execution_count": 3,
     "metadata": {},
     "output_type": "execute_result"
    }
   ],
   "source": [
    "# load in the data\n",
    "df = pd.read_csv(\"cookie_cats.csv\")\n",
    "\n",
    "# look at the first 5 rows\n",
    "df.head()"
   ]
  },
  {
   "cell_type": "code",
   "execution_count": 4,
   "id": "35c62d2e-a544-4eae-ad5d-e61c19517031",
   "metadata": {},
   "outputs": [
    {
     "name": "stdout",
     "output_type": "stream",
     "text": [
      "Total rows: 90189\n"
     ]
    }
   ],
   "source": [
    "# total number of observations\n",
    "print(\"Total rows:\", len(df))"
   ]
  },
  {
   "cell_type": "code",
   "execution_count": 5,
   "id": "0f155988-32f7-4b00-a637-22e04544e431",
   "metadata": {},
   "outputs": [
    {
     "name": "stdout",
     "output_type": "stream",
     "text": [
      "<class 'pandas.core.frame.DataFrame'>\n",
      "RangeIndex: 90189 entries, 0 to 90188\n",
      "Data columns (total 5 columns):\n",
      " #   Column          Non-Null Count  Dtype \n",
      "---  ------          --------------  ----- \n",
      " 0   userid          90189 non-null  int64 \n",
      " 1   version         90189 non-null  object\n",
      " 2   sum_gamerounds  90189 non-null  int64 \n",
      " 3   retention_1     90189 non-null  bool  \n",
      " 4   retention_7     90189 non-null  bool  \n",
      "dtypes: bool(2), int64(2), object(1)\n",
      "memory usage: 2.2+ MB\n"
     ]
    }
   ],
   "source": [
    "# check the data types of each variable and look for some missing values that may need to be investigated\n",
    "df.info()"
   ]
  },
  {
   "cell_type": "markdown",
   "id": "787d11c3-2b29-43a2-8d1d-7ff19b53506f",
   "metadata": {},
   "source": [
    "There doesn't look to be any missing values in any column.\n",
    "\n",
    "We should check that each observation is a different user or if there are duplicates in the data."
   ]
  },
  {
   "cell_type": "code",
   "execution_count": 6,
   "id": "c723a455-6bfd-4ed0-a5a2-0ae0e4a1ad05",
   "metadata": {},
   "outputs": [
    {
     "data": {
      "text/plain": [
       "90189"
      ]
     },
     "execution_count": 6,
     "metadata": {},
     "output_type": "execute_result"
    }
   ],
   "source": [
    "# check the number of unique users\n",
    "df[\"userid\"].nunique()"
   ]
  },
  {
   "cell_type": "markdown",
   "id": "9bb12546-4b12-4390-b371-0d50fa129b7c",
   "metadata": {},
   "source": [
    "It looks like we don't have duplicate users!\n",
    "\n",
    "Next we will check if the version groupings are similar for our A/B Test."
   ]
  },
  {
   "cell_type": "code",
   "execution_count": 7,
   "id": "1e463d87-bcfe-40de-9961-80c271281427",
   "metadata": {},
   "outputs": [
    {
     "data": {
      "text/plain": [
       "version\n",
       "gate_30    44700\n",
       "gate_40    45489\n",
       "Name: version, dtype: int64"
      ]
     },
     "execution_count": 7,
     "metadata": {},
     "output_type": "execute_result"
    }
   ],
   "source": [
    "# check if groupings are rougly similar\n",
    "df.groupby(\"version\")[\"version\"].count()"
   ]
  },
  {
   "cell_type": "markdown",
   "id": "a1f025c8-c52a-48c4-82e0-02622321baf7",
   "metadata": {},
   "source": [
    "Both versions look to be similar!\n",
    "\n",
    "The main purpose is player retention, so we can look into how many rounds users have played during the first week of the game"
   ]
  },
  {
   "cell_type": "code",
   "execution_count": 8,
   "id": "3a814ecf-c6b9-454f-904a-b383ccddab1f",
   "metadata": {},
   "outputs": [
    {
     "data": {
      "text/html": [
       "<div>\n",
       "<style scoped>\n",
       "    .dataframe tbody tr th:only-of-type {\n",
       "        vertical-align: middle;\n",
       "    }\n",
       "\n",
       "    .dataframe tbody tr th {\n",
       "        vertical-align: top;\n",
       "    }\n",
       "\n",
       "    .dataframe thead th {\n",
       "        text-align: right;\n",
       "    }\n",
       "</style>\n",
       "<table border=\"1\" class=\"dataframe\">\n",
       "  <thead>\n",
       "    <tr style=\"text-align: right;\">\n",
       "      <th></th>\n",
       "      <th>userid</th>\n",
       "      <th>version</th>\n",
       "      <th>sum_gamerounds</th>\n",
       "      <th>retention_1</th>\n",
       "      <th>retention_7</th>\n",
       "    </tr>\n",
       "  </thead>\n",
       "  <tbody>\n",
       "    <tr>\n",
       "      <th>0</th>\n",
       "      <td>116</td>\n",
       "      <td>gate_30</td>\n",
       "      <td>3</td>\n",
       "      <td>False</td>\n",
       "      <td>False</td>\n",
       "    </tr>\n",
       "    <tr>\n",
       "      <th>1</th>\n",
       "      <td>337</td>\n",
       "      <td>gate_30</td>\n",
       "      <td>38</td>\n",
       "      <td>True</td>\n",
       "      <td>False</td>\n",
       "    </tr>\n",
       "    <tr>\n",
       "      <th>2</th>\n",
       "      <td>377</td>\n",
       "      <td>gate_40</td>\n",
       "      <td>165</td>\n",
       "      <td>True</td>\n",
       "      <td>False</td>\n",
       "    </tr>\n",
       "    <tr>\n",
       "      <th>3</th>\n",
       "      <td>483</td>\n",
       "      <td>gate_40</td>\n",
       "      <td>1</td>\n",
       "      <td>False</td>\n",
       "      <td>False</td>\n",
       "    </tr>\n",
       "    <tr>\n",
       "      <th>4</th>\n",
       "      <td>488</td>\n",
       "      <td>gate_40</td>\n",
       "      <td>179</td>\n",
       "      <td>True</td>\n",
       "      <td>True</td>\n",
       "    </tr>\n",
       "    <tr>\n",
       "      <th>...</th>\n",
       "      <td>...</td>\n",
       "      <td>...</td>\n",
       "      <td>...</td>\n",
       "      <td>...</td>\n",
       "      <td>...</td>\n",
       "    </tr>\n",
       "    <tr>\n",
       "      <th>90184</th>\n",
       "      <td>9999441</td>\n",
       "      <td>gate_40</td>\n",
       "      <td>97</td>\n",
       "      <td>True</td>\n",
       "      <td>False</td>\n",
       "    </tr>\n",
       "    <tr>\n",
       "      <th>90185</th>\n",
       "      <td>9999479</td>\n",
       "      <td>gate_40</td>\n",
       "      <td>30</td>\n",
       "      <td>False</td>\n",
       "      <td>False</td>\n",
       "    </tr>\n",
       "    <tr>\n",
       "      <th>90186</th>\n",
       "      <td>9999710</td>\n",
       "      <td>gate_30</td>\n",
       "      <td>28</td>\n",
       "      <td>True</td>\n",
       "      <td>False</td>\n",
       "    </tr>\n",
       "    <tr>\n",
       "      <th>90187</th>\n",
       "      <td>9999768</td>\n",
       "      <td>gate_40</td>\n",
       "      <td>51</td>\n",
       "      <td>True</td>\n",
       "      <td>False</td>\n",
       "    </tr>\n",
       "    <tr>\n",
       "      <th>90188</th>\n",
       "      <td>9999861</td>\n",
       "      <td>gate_40</td>\n",
       "      <td>16</td>\n",
       "      <td>False</td>\n",
       "      <td>False</td>\n",
       "    </tr>\n",
       "  </tbody>\n",
       "</table>\n",
       "<p>90189 rows × 5 columns</p>\n",
       "</div>"
      ],
      "text/plain": [
       "        userid  version  sum_gamerounds  retention_1  retention_7\n",
       "0          116  gate_30               3        False        False\n",
       "1          337  gate_30              38         True        False\n",
       "2          377  gate_40             165         True        False\n",
       "3          483  gate_40               1        False        False\n",
       "4          488  gate_40             179         True         True\n",
       "...        ...      ...             ...          ...          ...\n",
       "90184  9999441  gate_40              97         True        False\n",
       "90185  9999479  gate_40              30        False        False\n",
       "90186  9999710  gate_30              28         True        False\n",
       "90187  9999768  gate_40              51         True        False\n",
       "90188  9999861  gate_40              16        False        False\n",
       "\n",
       "[90189 rows x 5 columns]"
      ]
     },
     "execution_count": 8,
     "metadata": {},
     "output_type": "execute_result"
    }
   ],
   "source": [
    "df"
   ]
  },
  {
   "cell_type": "markdown",
   "id": "d985c8e9-152d-407a-92c3-7812b8e5569a",
   "metadata": {},
   "source": [
    "A quick look at the data, there looks to be users that didn't come back to play at either 1 or 7 days after installing, some that would be played at both, and others that are played at only one of the days. Retaining the user at 1 day and losing them at 7 would make a little sense. A player could be enjoying the game initially but lose interest after some time. We can look quickly and see what the distribution of the retention days is."
   ]
  },
  {
   "cell_type": "code",
   "execution_count": 50,
   "id": "2de0ec86-dc60-4e75-8171-c80c2c4fcb9d",
   "metadata": {},
   "outputs": [
    {
     "data": {
      "text/html": [
       "<div>\n",
       "<style scoped>\n",
       "    .dataframe tbody tr th:only-of-type {\n",
       "        vertical-align: middle;\n",
       "    }\n",
       "\n",
       "    .dataframe tbody tr th {\n",
       "        vertical-align: top;\n",
       "    }\n",
       "\n",
       "    .dataframe thead th {\n",
       "        text-align: right;\n",
       "    }\n",
       "</style>\n",
       "<table border=\"1\" class=\"dataframe\">\n",
       "  <thead>\n",
       "    <tr style=\"text-align: right;\">\n",
       "      <th></th>\n",
       "      <th>retention_1</th>\n",
       "      <th>retention_7</th>\n",
       "      <th>userid</th>\n",
       "    </tr>\n",
       "  </thead>\n",
       "  <tbody>\n",
       "    <tr>\n",
       "      <th>0</th>\n",
       "      <td>False</td>\n",
       "      <td>False</td>\n",
       "      <td>46437</td>\n",
       "    </tr>\n",
       "    <tr>\n",
       "      <th>1</th>\n",
       "      <td>False</td>\n",
       "      <td>True</td>\n",
       "      <td>3599</td>\n",
       "    </tr>\n",
       "    <tr>\n",
       "      <th>2</th>\n",
       "      <td>True</td>\n",
       "      <td>False</td>\n",
       "      <td>26971</td>\n",
       "    </tr>\n",
       "    <tr>\n",
       "      <th>3</th>\n",
       "      <td>True</td>\n",
       "      <td>True</td>\n",
       "      <td>13182</td>\n",
       "    </tr>\n",
       "  </tbody>\n",
       "</table>\n",
       "</div>"
      ],
      "text/plain": [
       "   retention_1  retention_7  userid\n",
       "0        False        False   46437\n",
       "1        False         True    3599\n",
       "2         True        False   26971\n",
       "3         True         True   13182"
      ]
     },
     "execution_count": 50,
     "metadata": {},
     "output_type": "execute_result"
    }
   ],
   "source": [
    "df.groupby([\"retention_1\", \"retention_7\"])[\"userid\"].count().reset_index()"
   ]
  },
  {
   "cell_type": "markdown",
   "id": "3c5c689d-2238-4cae-99fd-fab29e00a467",
   "metadata": {},
   "source": [
    "One interesting observation is that some users didn't come back to play 1 day after installing but did after 7 days. This could be be looked into further if this was done at the company and there was more data/resources available. We could check if it's definition of playing after installing. If they would have to play on day 1 or day 7 to be defined as retained, that would make sense based on what we're seeing here. But if someone were to come back to play 7 days later, they were retained after a single day even if they didn't play the game the next day after installing. "
   ]
  },
  {
   "cell_type": "code",
   "execution_count": 9,
   "id": "87ede218-46c0-40fd-8a2b-209d33a7164c",
   "metadata": {},
   "outputs": [
    {
     "data": {
      "text/html": [
       "<div>\n",
       "<style scoped>\n",
       "    .dataframe tbody tr th:only-of-type {\n",
       "        vertical-align: middle;\n",
       "    }\n",
       "\n",
       "    .dataframe tbody tr th {\n",
       "        vertical-align: top;\n",
       "    }\n",
       "\n",
       "    .dataframe thead th {\n",
       "        text-align: right;\n",
       "    }\n",
       "</style>\n",
       "<table border=\"1\" class=\"dataframe\">\n",
       "  <thead>\n",
       "    <tr style=\"text-align: right;\">\n",
       "      <th></th>\n",
       "      <th>sum_gamerounds</th>\n",
       "      <th>userid</th>\n",
       "    </tr>\n",
       "  </thead>\n",
       "  <tbody>\n",
       "    <tr>\n",
       "      <th>0</th>\n",
       "      <td>0</td>\n",
       "      <td>3994</td>\n",
       "    </tr>\n",
       "    <tr>\n",
       "      <th>1</th>\n",
       "      <td>1</td>\n",
       "      <td>5538</td>\n",
       "    </tr>\n",
       "    <tr>\n",
       "      <th>2</th>\n",
       "      <td>2</td>\n",
       "      <td>4606</td>\n",
       "    </tr>\n",
       "    <tr>\n",
       "      <th>3</th>\n",
       "      <td>3</td>\n",
       "      <td>3958</td>\n",
       "    </tr>\n",
       "    <tr>\n",
       "      <th>4</th>\n",
       "      <td>4</td>\n",
       "      <td>3629</td>\n",
       "    </tr>\n",
       "    <tr>\n",
       "      <th>...</th>\n",
       "      <td>...</td>\n",
       "      <td>...</td>\n",
       "    </tr>\n",
       "    <tr>\n",
       "      <th>937</th>\n",
       "      <td>2294</td>\n",
       "      <td>1</td>\n",
       "    </tr>\n",
       "    <tr>\n",
       "      <th>938</th>\n",
       "      <td>2438</td>\n",
       "      <td>1</td>\n",
       "    </tr>\n",
       "    <tr>\n",
       "      <th>939</th>\n",
       "      <td>2640</td>\n",
       "      <td>1</td>\n",
       "    </tr>\n",
       "    <tr>\n",
       "      <th>940</th>\n",
       "      <td>2961</td>\n",
       "      <td>1</td>\n",
       "    </tr>\n",
       "    <tr>\n",
       "      <th>941</th>\n",
       "      <td>49854</td>\n",
       "      <td>1</td>\n",
       "    </tr>\n",
       "  </tbody>\n",
       "</table>\n",
       "<p>942 rows × 2 columns</p>\n",
       "</div>"
      ],
      "text/plain": [
       "     sum_gamerounds  userid\n",
       "0                 0    3994\n",
       "1                 1    5538\n",
       "2                 2    4606\n",
       "3                 3    3958\n",
       "4                 4    3629\n",
       "..              ...     ...\n",
       "937            2294       1\n",
       "938            2438       1\n",
       "939            2640       1\n",
       "940            2961       1\n",
       "941           49854       1\n",
       "\n",
       "[942 rows x 2 columns]"
      ]
     },
     "execution_count": 9,
     "metadata": {},
     "output_type": "execute_result"
    }
   ],
   "source": [
    "# count the number of users that cleared a certain number of rounds\n",
    "roundsPlayed = df.groupby(\"sum_gamerounds\")[\"userid\"].count().reset_index()\n",
    "roundsPlayed"
   ]
  },
  {
   "cell_type": "code",
   "execution_count": 10,
   "id": "0614908d-d8f1-40f1-a960-ebb0f2a3272a",
   "metadata": {},
   "outputs": [
    {
     "data": {
      "text/plain": [
       "count      942.000000\n",
       "mean       584.921444\n",
       "std       1656.069688\n",
       "min          0.000000\n",
       "25%        235.250000\n",
       "50%        470.500000\n",
       "75%        726.750000\n",
       "max      49854.000000\n",
       "Name: sum_gamerounds, dtype: float64"
      ]
     },
     "execution_count": 10,
     "metadata": {},
     "output_type": "execute_result"
    }
   ],
   "source": [
    "# check the descriptive statistics for sum_gamerounds\n",
    "roundsPlayed[\"sum_gamerounds\"].describe()"
   ]
  },
  {
   "cell_type": "markdown",
   "id": "3c6550f8-da1b-436f-bd34-e63518440ebf",
   "metadata": {},
   "source": [
    "With a mean higher than the median, our data is a bit right skewed. We can double check this with a plot"
   ]
  },
  {
   "cell_type": "code",
   "execution_count": 19,
   "id": "3c8e45c0-5960-40fe-8139-f797ccb62d42",
   "metadata": {},
   "outputs": [
    {
     "data": {
      "text/plain": [
       "Text(0, 0.5, 'Number of Players')"
      ]
     },
     "execution_count": 19,
     "metadata": {},
     "output_type": "execute_result"
    },
    {
     "data": {
      "image/png": "[encoded data removed]",
      "text/plain": [
       "<Figure size 1440x360 with 1 Axes>"
      ]
     },
     "metadata": {
      "needs_background": "light"
     },
     "output_type": "display_data"
    }
   ],
   "source": [
    "# plot all users for number of rounds played\n",
    "fig = plt.subplots(figsize = (20, 5))\n",
    "sns.lineplot(data = roundsPlayed, x = \"sum_gamerounds\", y = \"userid\")\n",
    "plt.title(\"Game Rounds Played by Players\")\n",
    "plt.xlabel(\"Game Rounds Played\")\n",
    "plt.ylabel(\"Number of Players\")"
   ]
  },
  {
   "cell_type": "markdown",
   "id": "6de85c0b-c391-4e8c-8add-c777d495487e",
   "metadata": {},
   "source": [
    "Very Right skewed with some outliers compared to other players. We will condense the data a bit to better see the peak on the left side of the graph and understand what is going on. We'll look at users that played less than 100 rounds and users that played less than 50 rounds."
   ]
  },
  {
   "cell_type": "code",
   "execution_count": 34,
   "id": "fb021273-24ce-4b14-9e3d-08bebd0019c7",
   "metadata": {},
   "outputs": [
    {
     "data": {
      "text/plain": [
       "Text(0, 0.5, 'Number of Players')"
      ]
     },
     "execution_count": 34,
     "metadata": {},
     "output_type": "execute_result"
    },
    {
     "data": {
      "image/png": "[encoded data removed]",
      "text/plain": [
       "<Figure size 720x360 with 1 Axes>"
      ]
     },
     "metadata": {
      "needs_background": "light"
     },
     "output_type": "display_data"
    }
   ],
   "source": [
    "# plot users that played less than 100 rounds\n",
    "fig = plt.subplots(figsize = (10, 5))\n",
    "sns.lineplot(data = roundsPlayed.head(100), x = \"sum_gamerounds\", y = \"userid\")\n",
    "plt.title(\"Game Rounds Played by Players\")\n",
    "plt.xlabel(\"Game Rounds Played\")\n",
    "plt.ylabel(\"Number of Players\")"
   ]
  },
  {
   "cell_type": "code",
   "execution_count": 33,
   "id": "7fd5a493-7eb8-4aa3-a3b5-3e32a613bd94",
   "metadata": {},
   "outputs": [
    {
     "data": {
      "text/plain": [
       "Text(0, 0.5, 'Number of Players')"
      ]
     },
     "execution_count": 33,
     "metadata": {},
     "output_type": "execute_result"
    },
    {
     "data": {
      "image/png": "[encoded data removed]",
      "text/plain": [
       "<Figure size 720x360 with 1 Axes>"
      ]
     },
     "metadata": {
      "needs_background": "light"
     },
     "output_type": "display_data"
    }
   ],
   "source": [
    "# plot users that played less than 50 rounds\n",
    "fig = plt.subplots(figsize = (10, 5))\n",
    "sns.barplot(data = roundsPlayed.head(50), x = \"sum_gamerounds\", y = \"userid\")\n",
    "plt.title(\"Game Rounds Played by Players\")\n",
    "plt.xlabel(\"Game Rounds Played\")\n",
    "plt.xticks(rotation = 90)\n",
    "plt.ylabel(\"Number of Players\")"
   ]
  },
  {
   "cell_type": "markdown",
   "id": "b9bf5973-a09f-42d8-92e7-566f08471edf",
   "metadata": {},
   "source": [
    "There looks to be about 4000 users during this testing period that didn't complete a single level. There is a noticeable decline in users as the number of rounds cleared gets higher, which is understandable. Most users may download a game to try it out and find they don't like it, while some may get hooked! \n",
    "\n",
    "We can also break this out by the number of users that were retained after 1 and 7 days to see if there is any noticeable difference graphically before doing the A/B Tests."
   ]
  },
  {
   "cell_type": "code",
   "execution_count": 38,
   "id": "03bce031-28f8-417a-acb4-5f6207586702",
   "metadata": {},
   "outputs": [
    {
     "data": {
      "text/html": [
       "<div>\n",
       "<style scoped>\n",
       "    .dataframe tbody tr th:only-of-type {\n",
       "        vertical-align: middle;\n",
       "    }\n",
       "\n",
       "    .dataframe tbody tr th {\n",
       "        vertical-align: top;\n",
       "    }\n",
       "\n",
       "    .dataframe thead th {\n",
       "        text-align: right;\n",
       "    }\n",
       "</style>\n",
       "<table border=\"1\" class=\"dataframe\">\n",
       "  <thead>\n",
       "    <tr style=\"text-align: right;\">\n",
       "      <th></th>\n",
       "      <th>sum_gamerounds</th>\n",
       "      <th>retention_1</th>\n",
       "      <th>userid</th>\n",
       "    </tr>\n",
       "  </thead>\n",
       "  <tbody>\n",
       "    <tr>\n",
       "      <th>0</th>\n",
       "      <td>0</td>\n",
       "      <td>False</td>\n",
       "      <td>3907</td>\n",
       "    </tr>\n",
       "    <tr>\n",
       "      <th>1</th>\n",
       "      <td>0</td>\n",
       "      <td>True</td>\n",
       "      <td>87</td>\n",
       "    </tr>\n",
       "    <tr>\n",
       "      <th>2</th>\n",
       "      <td>1</td>\n",
       "      <td>False</td>\n",
       "      <td>5367</td>\n",
       "    </tr>\n",
       "    <tr>\n",
       "      <th>3</th>\n",
       "      <td>1</td>\n",
       "      <td>True</td>\n",
       "      <td>171</td>\n",
       "    </tr>\n",
       "    <tr>\n",
       "      <th>4</th>\n",
       "      <td>2</td>\n",
       "      <td>False</td>\n",
       "      <td>4332</td>\n",
       "    </tr>\n",
       "    <tr>\n",
       "      <th>...</th>\n",
       "      <td>...</td>\n",
       "      <td>...</td>\n",
       "      <td>...</td>\n",
       "    </tr>\n",
       "    <tr>\n",
       "      <th>1315</th>\n",
       "      <td>2294</td>\n",
       "      <td>True</td>\n",
       "      <td>1</td>\n",
       "    </tr>\n",
       "    <tr>\n",
       "      <th>1316</th>\n",
       "      <td>2438</td>\n",
       "      <td>True</td>\n",
       "      <td>1</td>\n",
       "    </tr>\n",
       "    <tr>\n",
       "      <th>1317</th>\n",
       "      <td>2640</td>\n",
       "      <td>True</td>\n",
       "      <td>1</td>\n",
       "    </tr>\n",
       "    <tr>\n",
       "      <th>1318</th>\n",
       "      <td>2961</td>\n",
       "      <td>True</td>\n",
       "      <td>1</td>\n",
       "    </tr>\n",
       "    <tr>\n",
       "      <th>1319</th>\n",
       "      <td>49854</td>\n",
       "      <td>False</td>\n",
       "      <td>1</td>\n",
       "    </tr>\n",
       "  </tbody>\n",
       "</table>\n",
       "<p>1320 rows × 3 columns</p>\n",
       "</div>"
      ],
      "text/plain": [
       "      sum_gamerounds  retention_1  userid\n",
       "0                  0        False    3907\n",
       "1                  0         True      87\n",
       "2                  1        False    5367\n",
       "3                  1         True     171\n",
       "4                  2        False    4332\n",
       "...              ...          ...     ...\n",
       "1315            2294         True       1\n",
       "1316            2438         True       1\n",
       "1317            2640         True       1\n",
       "1318            2961         True       1\n",
       "1319           49854        False       1\n",
       "\n",
       "[1320 rows x 3 columns]"
      ]
     },
     "execution_count": 38,
     "metadata": {},
     "output_type": "execute_result"
    }
   ],
   "source": [
    "# count the number of users that cleared a certain number of rounds and whether they were retained after 1 day\n",
    "gamesPlayed_ret1 = df.groupby([\"sum_gamerounds\", \"retention_1\"])[\"userid\"].count().reset_index()\n",
    "gamesPlayed_ret1"
   ]
  },
  {
   "cell_type": "code",
   "execution_count": 44,
   "id": "c408098d-f459-4220-a606-6df86af3e2eb",
   "metadata": {},
   "outputs": [
    {
     "data": {
      "text/plain": [
       "Text(0, 0.5, 'Number of Players')"
      ]
     },
     "execution_count": 44,
     "metadata": {},
     "output_type": "execute_result"
    },
    {
     "data": {
      "image/png": "[encoded data removed]",
      "text/plain": [
       "<Figure size 1440x360 with 1 Axes>"
      ]
     },
     "metadata": {
      "needs_background": "light"
     },
     "output_type": "display_data"
    }
   ],
   "source": [
    "# plot users that played less than 50 rounds grouped by whether they were retained after 1 day\n",
    "fig = plt.subplots(figsize = (20, 5))\n",
    "sns.barplot(data = gamesPlayed_ret1.head(100), x = \"sum_gamerounds\", y = \"userid\", hue = \"retention_1\")\n",
    "plt.title(\"Game Rounds Played by Players\")\n",
    "plt.xlabel(\"Game Rounds Played\")\n",
    "plt.xticks(rotation = 90)\n",
    "plt.ylabel(\"Number of Players\")"
   ]
  },
  {
   "cell_type": "markdown",
   "id": "eea9fb03-17df-4377-8a85-e98914461442",
   "metadata": {},
   "source": [
    "As the users clear more levels, they start to be retained more, with some users still quit playing after clearing a number of levels. An interesting observation from the dataset a few cells ago is the user that cleared 49,854 levels wasn't retained after one day. This would be something to investigate further with more data and resources available from the company. \n",
    "\n",
    "Next we'll see if a similar trend holds for users after 7 days."
   ]
  },
  {
   "cell_type": "code",
   "execution_count": 48,
   "id": "6ca23d25-db63-4c56-84f5-90c3e18357a3",
   "metadata": {},
   "outputs": [
    {
     "data": {
      "text/html": [
       "<div>\n",
       "<style scoped>\n",
       "    .dataframe tbody tr th:only-of-type {\n",
       "        vertical-align: middle;\n",
       "    }\n",
       "\n",
       "    .dataframe tbody tr th {\n",
       "        vertical-align: top;\n",
       "    }\n",
       "\n",
       "    .dataframe thead th {\n",
       "        text-align: right;\n",
       "    }\n",
       "</style>\n",
       "<table border=\"1\" class=\"dataframe\">\n",
       "  <thead>\n",
       "    <tr style=\"text-align: right;\">\n",
       "      <th></th>\n",
       "      <th>sum_gamerounds</th>\n",
       "      <th>retention_7</th>\n",
       "      <th>userid</th>\n",
       "    </tr>\n",
       "  </thead>\n",
       "  <tbody>\n",
       "    <tr>\n",
       "      <th>0</th>\n",
       "      <td>0</td>\n",
       "      <td>False</td>\n",
       "      <td>3965</td>\n",
       "    </tr>\n",
       "    <tr>\n",
       "      <th>1</th>\n",
       "      <td>0</td>\n",
       "      <td>True</td>\n",
       "      <td>29</td>\n",
       "    </tr>\n",
       "    <tr>\n",
       "      <th>2</th>\n",
       "      <td>1</td>\n",
       "      <td>False</td>\n",
       "      <td>5497</td>\n",
       "    </tr>\n",
       "    <tr>\n",
       "      <th>3</th>\n",
       "      <td>1</td>\n",
       "      <td>True</td>\n",
       "      <td>41</td>\n",
       "    </tr>\n",
       "    <tr>\n",
       "      <th>4</th>\n",
       "      <td>2</td>\n",
       "      <td>False</td>\n",
       "      <td>4539</td>\n",
       "    </tr>\n",
       "    <tr>\n",
       "      <th>...</th>\n",
       "      <td>...</td>\n",
       "      <td>...</td>\n",
       "      <td>...</td>\n",
       "    </tr>\n",
       "    <tr>\n",
       "      <th>1378</th>\n",
       "      <td>2294</td>\n",
       "      <td>True</td>\n",
       "      <td>1</td>\n",
       "    </tr>\n",
       "    <tr>\n",
       "      <th>1379</th>\n",
       "      <td>2438</td>\n",
       "      <td>True</td>\n",
       "      <td>1</td>\n",
       "    </tr>\n",
       "    <tr>\n",
       "      <th>1380</th>\n",
       "      <td>2640</td>\n",
       "      <td>False</td>\n",
       "      <td>1</td>\n",
       "    </tr>\n",
       "    <tr>\n",
       "      <th>1381</th>\n",
       "      <td>2961</td>\n",
       "      <td>True</td>\n",
       "      <td>1</td>\n",
       "    </tr>\n",
       "    <tr>\n",
       "      <th>1382</th>\n",
       "      <td>49854</td>\n",
       "      <td>True</td>\n",
       "      <td>1</td>\n",
       "    </tr>\n",
       "  </tbody>\n",
       "</table>\n",
       "<p>1383 rows × 3 columns</p>\n",
       "</div>"
      ],
      "text/plain": [
       "      sum_gamerounds  retention_7  userid\n",
       "0                  0        False    3965\n",
       "1                  0         True      29\n",
       "2                  1        False    5497\n",
       "3                  1         True      41\n",
       "4                  2        False    4539\n",
       "...              ...          ...     ...\n",
       "1378            2294         True       1\n",
       "1379            2438         True       1\n",
       "1380            2640        False       1\n",
       "1381            2961         True       1\n",
       "1382           49854         True       1\n",
       "\n",
       "[1383 rows x 3 columns]"
      ]
     },
     "execution_count": 48,
     "metadata": {},
     "output_type": "execute_result"
    }
   ],
   "source": [
    "# count the number of users that cleared a certain number of rounds and whether they were retained after 7 days\n",
    "gamesPlayed_ret7 = df.groupby([\"sum_gamerounds\", \"retention_7\"])[\"userid\"].count().reset_index()\n",
    "gamesPlayed_ret7"
   ]
  },
  {
   "cell_type": "code",
   "execution_count": 47,
   "id": "8cbd909e-d2fa-4bdf-93b0-9bbb6e4f6fb1",
   "metadata": {},
   "outputs": [
    {
     "data": {
      "text/plain": [
       "Text(0, 0.5, 'Number of Players')"
      ]
     },
     "execution_count": 47,
     "metadata": {},
     "output_type": "execute_result"
    },
    {
     "data": {
      "image/png": "[encoded data removed]",
      "text/plain": [
       "<Figure size 1440x360 with 1 Axes>"
      ]
     },
     "metadata": {
      "needs_background": "light"
     },
     "output_type": "display_data"
    }
   ],
   "source": [
    "# plot users that played less than 50 rounds grouped by whether they were retained after 1 day\n",
    "fig = plt.subplots(figsize = (20, 5))\n",
    "sns.barplot(data = gamesPlayed_ret7.head(100), x = \"sum_gamerounds\", y = \"userid\", hue = \"retention_7\")\n",
    "plt.title(\"Game Rounds Played by Players\")\n",
    "plt.xlabel(\"Game Rounds Played\")\n",
    "plt.xticks(rotation = 90)\n",
    "plt.ylabel(\"Number of Players\")"
   ]
  },
  {
   "cell_type": "markdown",
   "id": "8af3f5b8-08a6-4310-a2e1-2e913f1ef8f4",
   "metadata": {},
   "source": [
    "## AB Testing\n",
    "\n",
    "Now that we understand the data a little better, we can move on to testing if there are noticable differences between the two groups.\n",
    "\n",
    "### 1 Day Retention\n",
    "\n",
    "We'll start with 1-day retention. We can first look at what the overall 1-day retention was for our data"
   ]
  },
  {
   "cell_type": "code",
   "execution_count": 52,
   "id": "aff1ec20-8e48-4377-abf0-5e435d10f94a",
   "metadata": {},
   "outputs": [
    {
     "data": {
      "text/plain": [
       "0.4452095044850259"
      ]
     },
     "execution_count": 52,
     "metadata": {},
     "output_type": "execute_result"
    }
   ],
   "source": [
    "# the percent of users that played again the day after installing the app and initial playthrogh\n",
    "df[\"retention_1\"].mean()"
   ]
  },
  {
   "cell_type": "code",
   "execution_count": 53,
   "id": "393be959-5991-43ba-b304-6dbc2df2deec",
   "metadata": {},
   "outputs": [
    {
     "data": {
      "text/plain": [
       "version\n",
       "gate_30    0.448188\n",
       "gate_40    0.442283\n",
       "Name: retention_1, dtype: float64"
      ]
     },
     "execution_count": 53,
     "metadata": {},
     "output_type": "execute_result"
    }
   ],
   "source": [
    "# percent of users that played again the day after installing the app and initial playthrough for each version of the gate\n",
    "df.groupby(\"version\")[\"retention_1\"].mean()"
   ]
  },
  {
   "cell_type": "markdown",
   "id": "f7e9efc7-83ff-4594-9021-dadca11632d3",
   "metadata": {},
   "source": [
    "By observation, there doesn't look to be much of a difference in 1-day retention between the two groups. There is a slight decrease when the gate is moved back to level 40. \n",
    "\n",
    "#### Bootstrap\n",
    "\n",
    "This was one test, so we could see different results if we were to run this again. To help with this process, we'll perform a bootstrap to repeatedly re-sample our dataset with replacement and calculate the 1-day retention for the samples. We will resample the data 500 times. In a production environment we could increase this to something like 10,000 resamples, but we'll keep the calculations simple for this project."
   ]
  },
  {
   "cell_type": "code",
   "execution_count": 66,
   "id": "db1104e1-b1cc-4654-b3fd-efa321678ea0",
   "metadata": {},
   "outputs": [
    {
     "data": {
      "text/html": [
       "<div>\n",
       "<style scoped>\n",
       "    .dataframe tbody tr th:only-of-type {\n",
       "        vertical-align: middle;\n",
       "    }\n",
       "\n",
       "    .dataframe tbody tr th {\n",
       "        vertical-align: top;\n",
       "    }\n",
       "\n",
       "    .dataframe thead th {\n",
       "        text-align: right;\n",
       "    }\n",
       "</style>\n",
       "<table border=\"1\" class=\"dataframe\">\n",
       "  <thead>\n",
       "    <tr style=\"text-align: right;\">\n",
       "      <th>version</th>\n",
       "      <th>gate_30</th>\n",
       "      <th>gate_40</th>\n",
       "    </tr>\n",
       "  </thead>\n",
       "  <tbody>\n",
       "    <tr>\n",
       "      <th>retention_1</th>\n",
       "      <td>0.445593</td>\n",
       "      <td>0.441319</td>\n",
       "    </tr>\n",
       "    <tr>\n",
       "      <th>retention_1</th>\n",
       "      <td>0.446728</td>\n",
       "      <td>0.441572</td>\n",
       "    </tr>\n",
       "    <tr>\n",
       "      <th>retention_1</th>\n",
       "      <td>0.443163</td>\n",
       "      <td>0.445843</td>\n",
       "    </tr>\n",
       "    <tr>\n",
       "      <th>retention_1</th>\n",
       "      <td>0.450410</td>\n",
       "      <td>0.446822</td>\n",
       "    </tr>\n",
       "    <tr>\n",
       "      <th>retention_1</th>\n",
       "      <td>0.448647</td>\n",
       "      <td>0.440740</td>\n",
       "    </tr>\n",
       "    <tr>\n",
       "      <th>...</th>\n",
       "      <td>...</td>\n",
       "      <td>...</td>\n",
       "    </tr>\n",
       "    <tr>\n",
       "      <th>retention_1</th>\n",
       "      <td>0.448823</td>\n",
       "      <td>0.441745</td>\n",
       "    </tr>\n",
       "    <tr>\n",
       "      <th>retention_1</th>\n",
       "      <td>0.448680</td>\n",
       "      <td>0.441056</td>\n",
       "    </tr>\n",
       "    <tr>\n",
       "      <th>retention_1</th>\n",
       "      <td>0.449368</td>\n",
       "      <td>0.443628</td>\n",
       "    </tr>\n",
       "    <tr>\n",
       "      <th>retention_1</th>\n",
       "      <td>0.444102</td>\n",
       "      <td>0.445332</td>\n",
       "    </tr>\n",
       "    <tr>\n",
       "      <th>retention_1</th>\n",
       "      <td>0.447895</td>\n",
       "      <td>0.446026</td>\n",
       "    </tr>\n",
       "  </tbody>\n",
       "</table>\n",
       "<p>500 rows × 2 columns</p>\n",
       "</div>"
      ],
      "text/plain": [
       "version       gate_30   gate_40\n",
       "retention_1  0.445593  0.441319\n",
       "retention_1  0.446728  0.441572\n",
       "retention_1  0.443163  0.445843\n",
       "retention_1  0.450410  0.446822\n",
       "retention_1  0.448647  0.440740\n",
       "...               ...       ...\n",
       "retention_1  0.448823  0.441745\n",
       "retention_1  0.448680  0.441056\n",
       "retention_1  0.449368  0.443628\n",
       "retention_1  0.444102  0.445332\n",
       "retention_1  0.447895  0.446026\n",
       "\n",
       "[500 rows x 2 columns]"
      ]
     },
     "execution_count": 66,
     "metadata": {},
     "output_type": "execute_result"
    }
   ],
   "source": [
    "# create an empty list to store the bootstrapped means for each group\n",
    "boot_1day = []\n",
    "resamples = 500\n",
    "\n",
    "for i in range(resamples):\n",
    "    group_means = df.sample(frac = 1, replace = True).groupby(\"version\")[\"retention_1\"].mean()\n",
    "    \n",
    "    boot_1day.append(group_means)\n",
    "    \n",
    "# change the list to a dataframe for use\n",
    "boot_1day = pd.DataFrame(boot_1day)\n",
    "\n",
    "boot_1day"
   ]
  },
  {
   "cell_type": "code",
   "execution_count": 92,
   "id": "3070d178-66f5-4f6d-8882-33069c68fc44",
   "metadata": {},
   "outputs": [
    {
     "data": {
      "image/png": "[encoded data removed]",
      "text/plain": [
       "<Figure size 640x480 with 1 Axes>"
      ]
     },
     "metadata": {},
     "output_type": "display_data"
    }
   ],
   "source": [
    "sns.kdeplot(boot_1day[\"gate_30\"], fill = True, color = \"navy\", label = \"gate_30\")\n",
    "sns.kdeplot(boot_1day[\"gate_40\"], fill = True, color = \"grey\", label = \"gate_40\")\n",
    "plt.title(\"Bootstrapped 1-Day Retention Means\")\n",
    "plt.xlabel(\"Mean 1-Day Retention\")\n",
    "plt.legend(loc = \"upper right\")\n",
    "plt.show()"
   ]
  },
  {
   "cell_type": "markdown",
   "id": "c228bc7a-ad8f-44bf-a08e-3b0106be6692",
   "metadata": {},
   "source": [
    "The bootstrap results shows what the underlying 1-day retention for these two groups could be. We can see that there looks to be some evidence of a difference, but we can examine that difference a bit further."
   ]
  },
  {
   "cell_type": "code",
   "execution_count": 81,
   "id": "71d80da6-f5b1-4d75-b20d-9baaacc6ed6f",
   "metadata": {},
   "outputs": [
    {
     "data": {
      "text/html": [
       "<div>\n",
       "<style scoped>\n",
       "    .dataframe tbody tr th:only-of-type {\n",
       "        vertical-align: middle;\n",
       "    }\n",
       "\n",
       "    .dataframe tbody tr th {\n",
       "        vertical-align: top;\n",
       "    }\n",
       "\n",
       "    .dataframe thead th {\n",
       "        text-align: right;\n",
       "    }\n",
       "</style>\n",
       "<table border=\"1\" class=\"dataframe\">\n",
       "  <thead>\n",
       "    <tr style=\"text-align: right;\">\n",
       "      <th>version</th>\n",
       "      <th>gate_30</th>\n",
       "      <th>gate_40</th>\n",
       "      <th>diff</th>\n",
       "    </tr>\n",
       "  </thead>\n",
       "  <tbody>\n",
       "    <tr>\n",
       "      <th>retention_1</th>\n",
       "      <td>0.445593</td>\n",
       "      <td>0.441319</td>\n",
       "      <td>0.968444</td>\n",
       "    </tr>\n",
       "    <tr>\n",
       "      <th>retention_1</th>\n",
       "      <td>0.446728</td>\n",
       "      <td>0.441572</td>\n",
       "      <td>1.167624</td>\n",
       "    </tr>\n",
       "    <tr>\n",
       "      <th>retention_1</th>\n",
       "      <td>0.443163</td>\n",
       "      <td>0.445843</td>\n",
       "      <td>-0.601127</td>\n",
       "    </tr>\n",
       "    <tr>\n",
       "      <th>retention_1</th>\n",
       "      <td>0.450410</td>\n",
       "      <td>0.446822</td>\n",
       "      <td>0.803087</td>\n",
       "    </tr>\n",
       "    <tr>\n",
       "      <th>retention_1</th>\n",
       "      <td>0.448647</td>\n",
       "      <td>0.440740</td>\n",
       "      <td>1.793985</td>\n",
       "    </tr>\n",
       "    <tr>\n",
       "      <th>...</th>\n",
       "      <td>...</td>\n",
       "      <td>...</td>\n",
       "      <td>...</td>\n",
       "    </tr>\n",
       "    <tr>\n",
       "      <th>retention_1</th>\n",
       "      <td>0.448823</td>\n",
       "      <td>0.441745</td>\n",
       "      <td>1.602256</td>\n",
       "    </tr>\n",
       "    <tr>\n",
       "      <th>retention_1</th>\n",
       "      <td>0.448680</td>\n",
       "      <td>0.441056</td>\n",
       "      <td>1.728593</td>\n",
       "    </tr>\n",
       "    <tr>\n",
       "      <th>retention_1</th>\n",
       "      <td>0.449368</td>\n",
       "      <td>0.443628</td>\n",
       "      <td>1.294009</td>\n",
       "    </tr>\n",
       "    <tr>\n",
       "      <th>retention_1</th>\n",
       "      <td>0.444102</td>\n",
       "      <td>0.445332</td>\n",
       "      <td>-0.276312</td>\n",
       "    </tr>\n",
       "    <tr>\n",
       "      <th>retention_1</th>\n",
       "      <td>0.447895</td>\n",
       "      <td>0.446026</td>\n",
       "      <td>0.418907</td>\n",
       "    </tr>\n",
       "  </tbody>\n",
       "</table>\n",
       "<p>500 rows × 3 columns</p>\n",
       "</div>"
      ],
      "text/plain": [
       "version       gate_30   gate_40      diff\n",
       "retention_1  0.445593  0.441319  0.968444\n",
       "retention_1  0.446728  0.441572  1.167624\n",
       "retention_1  0.443163  0.445843 -0.601127\n",
       "retention_1  0.450410  0.446822  0.803087\n",
       "retention_1  0.448647  0.440740  1.793985\n",
       "...               ...       ...       ...\n",
       "retention_1  0.448823  0.441745  1.602256\n",
       "retention_1  0.448680  0.441056  1.728593\n",
       "retention_1  0.449368  0.443628  1.294009\n",
       "retention_1  0.444102  0.445332 -0.276312\n",
       "retention_1  0.447895  0.446026  0.418907\n",
       "\n",
       "[500 rows x 3 columns]"
      ]
     },
     "execution_count": 81,
     "metadata": {},
     "output_type": "execute_result"
    }
   ],
   "source": [
    "# calculate the percent difference between our two groups\n",
    "boot_1day[\"diff\"] = ((boot_1day[\"gate_30\"] - boot_1day[\"gate_40\"])/ boot_1day[\"gate_40\"]) * 100\n",
    "boot_1day"
   ]
  },
  {
   "cell_type": "code",
   "execution_count": 93,
   "id": "c5532dbd-9b02-4eaf-a354-3725f82806ac",
   "metadata": {},
   "outputs": [
    {
     "data": {
      "image/png": "[encoded data removed]",
      "text/plain": [
       "<Figure size 640x480 with 1 Axes>"
      ]
     },
     "metadata": {},
     "output_type": "display_data"
    }
   ],
   "source": [
    "sns.kdeplot(boot_1day[\"diff\"], fill = True, color = \"navy\")\n",
    "plt.title(\"Bootstrapped 1-Day Retention Percent Difference\")\n",
    "plt.xlabel(\"Percent Difference in Means\")\n",
    "plt.show()"
   ]
  },
  {
   "cell_type": "markdown",
   "id": "3cac87f7-f101-4a61-931d-5f4e1d7c2206",
   "metadata": {},
   "source": [
    "We can see in the above graph that most of the differences fall around 1% - 2%, with most of the distribution being above 0% favoring gate 30. We can calculate the probability that the difference is above 0%."
   ]
  },
  {
   "cell_type": "code",
   "execution_count": 113,
   "id": "88d3a0df-e082-428a-ba64-e2a23f0bc2be",
   "metadata": {},
   "outputs": [
    {
     "name": "stdout",
     "output_type": "stream",
     "text": [
      "Probability of a difference greater than 0 is 95.2%\n"
     ]
    }
   ],
   "source": [
    "prob = boot_1day[boot_1day[\"diff\"] > 0].shape[0]/len(boot_1day)\n",
    "\n",
    "print(\"Probability of a difference greater than 0 is\", \"{:.1%}\".format(prob))"
   ]
  },
  {
   "cell_type": "markdown",
   "id": "c7a1b716-33ea-47f2-a4b6-385287dac751",
   "metadata": {},
   "source": [
    "There looks to be a high probability of a difference between the two groups greater than 0%. We can use other techniques to test this difference as well.\n",
    "\n",
    "#### Chi-Squared Test\n",
    "\n",
    "In this section we'll use a Chi-Squared Test to compare the two groups. As stated before, we'll use a significance level of 0.05. We'll use the following hypotheses:\n",
    "\n",
    "$H_0$: The retention rate is the same for both versions of the game vs $H_A$:"
   ]
  },
  {
   "cell_type": "code",
   "execution_count": 119,
   "id": "454dcbf2-d119-41b0-9235-64b63602c5e4",
   "metadata": {},
   "outputs": [
    {
     "data": {
      "text/plain": [
       "array([20034, 20119], dtype=int64)"
      ]
     },
     "execution_count": 119,
     "metadata": {},
     "output_type": "execute_result"
    }
   ],
   "source": [
    "# create the contingency table\n",
    "#day1_contTable = pd.DataFrame(data = {\"version\": [\"gate_30\", \"gate_40\"]})\n",
    "#df[df[\"retention_1\"] == True].groupby(\"version\").count()[\"retention_1\"].values"
   ]
  },
  {
   "cell_type": "code",
   "execution_count": null,
   "id": "8ab960bf-38c5-4497-b490-83fce35a8fcf",
   "metadata": {},
   "outputs": [],
   "source": []
  },
  {
   "cell_type": "markdown",
   "id": "d6ee3eae-333c-4fba-a03d-e00ef81b371a",
   "metadata": {},
   "source": [
    "### 7 Day Retention"
   ]
  },
  {
   "cell_type": "code",
   "execution_count": 121,
   "id": "7d355d80-7e2c-40a8-9975-ca1d8271e30d",
   "metadata": {},
   "outputs": [
    {
     "data": {
      "text/plain": [
       "0.1860648194347426"
      ]
     },
     "execution_count": 121,
     "metadata": {},
     "output_type": "execute_result"
    }
   ],
   "source": [
    "# the percent of users that played again 7 days after installing the app and initial playthrogh\n",
    "df[\"retention_7\"].mean()"
   ]
  },
  {
   "cell_type": "code",
   "execution_count": 120,
   "id": "f5c86f02-b0b2-4c46-a0d6-51d9da584c03",
   "metadata": {},
   "outputs": [
    {
     "data": {
      "text/plain": [
       "version\n",
       "gate_30    0.190201\n",
       "gate_40    0.182000\n",
       "Name: retention_7, dtype: float64"
      ]
     },
     "execution_count": 120,
     "metadata": {},
     "output_type": "execute_result"
    }
   ],
   "source": [
    "# percent of users that played again 7 days after installing the app and initial playthrough for each version of the gate\n",
    "df.groupby(\"version\")[\"retention_7\"].mean()"
   ]
  },
  {
   "cell_type": "markdown",
   "id": "7aa21d50-af52-4aca-9a49-a576f78cf08a",
   "metadata": {},
   "source": [
    "#### Bootstrap"
   ]
  },
  {
   "cell_type": "code",
   "execution_count": 123,
   "id": "8f260956-53d3-4de1-a9ab-2081b6aeb65d",
   "metadata": {},
   "outputs": [
    {
     "data": {
      "text/html": [
       "<div>\n",
       "<style scoped>\n",
       "    .dataframe tbody tr th:only-of-type {\n",
       "        vertical-align: middle;\n",
       "    }\n",
       "\n",
       "    .dataframe tbody tr th {\n",
       "        vertical-align: top;\n",
       "    }\n",
       "\n",
       "    .dataframe thead th {\n",
       "        text-align: right;\n",
       "    }\n",
       "</style>\n",
       "<table border=\"1\" class=\"dataframe\">\n",
       "  <thead>\n",
       "    <tr style=\"text-align: right;\">\n",
       "      <th>version</th>\n",
       "      <th>gate_30</th>\n",
       "      <th>gate_40</th>\n",
       "    </tr>\n",
       "  </thead>\n",
       "  <tbody>\n",
       "    <tr>\n",
       "      <th>retention_7</th>\n",
       "      <td>0.189449</td>\n",
       "      <td>0.181926</td>\n",
       "    </tr>\n",
       "    <tr>\n",
       "      <th>retention_7</th>\n",
       "      <td>0.193474</td>\n",
       "      <td>0.183673</td>\n",
       "    </tr>\n",
       "    <tr>\n",
       "      <th>retention_7</th>\n",
       "      <td>0.190681</td>\n",
       "      <td>0.182211</td>\n",
       "    </tr>\n",
       "    <tr>\n",
       "      <th>retention_7</th>\n",
       "      <td>0.189670</td>\n",
       "      <td>0.181743</td>\n",
       "    </tr>\n",
       "    <tr>\n",
       "      <th>retention_7</th>\n",
       "      <td>0.190324</td>\n",
       "      <td>0.181672</td>\n",
       "    </tr>\n",
       "    <tr>\n",
       "      <th>...</th>\n",
       "      <td>...</td>\n",
       "      <td>...</td>\n",
       "    </tr>\n",
       "    <tr>\n",
       "      <th>retention_7</th>\n",
       "      <td>0.191483</td>\n",
       "      <td>0.178624</td>\n",
       "    </tr>\n",
       "    <tr>\n",
       "      <th>retention_7</th>\n",
       "      <td>0.192778</td>\n",
       "      <td>0.180721</td>\n",
       "    </tr>\n",
       "    <tr>\n",
       "      <th>retention_7</th>\n",
       "      <td>0.189991</td>\n",
       "      <td>0.183356</td>\n",
       "    </tr>\n",
       "    <tr>\n",
       "      <th>retention_7</th>\n",
       "      <td>0.190329</td>\n",
       "      <td>0.184785</td>\n",
       "    </tr>\n",
       "    <tr>\n",
       "      <th>retention_7</th>\n",
       "      <td>0.189026</td>\n",
       "      <td>0.183754</td>\n",
       "    </tr>\n",
       "  </tbody>\n",
       "</table>\n",
       "<p>500 rows × 2 columns</p>\n",
       "</div>"
      ],
      "text/plain": [
       "version       gate_30   gate_40\n",
       "retention_7  0.189449  0.181926\n",
       "retention_7  0.193474  0.183673\n",
       "retention_7  0.190681  0.182211\n",
       "retention_7  0.189670  0.181743\n",
       "retention_7  0.190324  0.181672\n",
       "...               ...       ...\n",
       "retention_7  0.191483  0.178624\n",
       "retention_7  0.192778  0.180721\n",
       "retention_7  0.189991  0.183356\n",
       "retention_7  0.190329  0.184785\n",
       "retention_7  0.189026  0.183754\n",
       "\n",
       "[500 rows x 2 columns]"
      ]
     },
     "execution_count": 123,
     "metadata": {},
     "output_type": "execute_result"
    }
   ],
   "source": [
    "# create an empty list to store the bootstrapped means for each group\n",
    "boot_7days = []\n",
    "resamples = 500\n",
    "\n",
    "for i in range(resamples):\n",
    "    group_means = df.sample(frac = 1, replace = True).groupby(\"version\")[\"retention_7\"].mean()\n",
    "    \n",
    "    boot_7days.append(group_means)\n",
    "    \n",
    "# change the list to a dataframe for use\n",
    "boot_7days = pd.DataFrame(boot_7days)\n",
    "\n",
    "boot_7days"
   ]
  },
  {
   "cell_type": "code",
   "execution_count": 128,
   "id": "75d42964-c661-42a5-b17e-606658a5a0e5",
   "metadata": {},
   "outputs": [
    {
     "data": {
      "image/png": "[encoded data removed]",
      "text/plain": [
       "<Figure size 640x480 with 1 Axes>"
      ]
     },
     "metadata": {},
     "output_type": "display_data"
    }
   ],
   "source": [
    "sns.kdeplot(boot_7days[\"gate_30\"], fill = True, color = \"navy\", label = \"gate_30\")\n",
    "sns.kdeplot(boot_7days[\"gate_40\"], fill = True, color = \"grey\", label = \"gate_40\")\n",
    "plt.title(\"Bootstrapped 7-Day Retention Means\")\n",
    "plt.xlabel(\"Mean 7-Day Retention\")\n",
    "plt.legend(loc = \"upper right\")\n",
    "plt.show()"
   ]
  },
  {
   "cell_type": "code",
   "execution_count": 125,
   "id": "dba75aa5-6184-4a87-a87c-aabb6596c200",
   "metadata": {},
   "outputs": [
    {
     "data": {
      "text/html": [
       "<div>\n",
       "<style scoped>\n",
       "    .dataframe tbody tr th:only-of-type {\n",
       "        vertical-align: middle;\n",
       "    }\n",
       "\n",
       "    .dataframe tbody tr th {\n",
       "        vertical-align: top;\n",
       "    }\n",
       "\n",
       "    .dataframe thead th {\n",
       "        text-align: right;\n",
       "    }\n",
       "</style>\n",
       "<table border=\"1\" class=\"dataframe\">\n",
       "  <thead>\n",
       "    <tr style=\"text-align: right;\">\n",
       "      <th>version</th>\n",
       "      <th>gate_30</th>\n",
       "      <th>gate_40</th>\n",
       "      <th>diff</th>\n",
       "    </tr>\n",
       "  </thead>\n",
       "  <tbody>\n",
       "    <tr>\n",
       "      <th>retention_7</th>\n",
       "      <td>0.189449</td>\n",
       "      <td>0.181926</td>\n",
       "      <td>4.135249</td>\n",
       "    </tr>\n",
       "    <tr>\n",
       "      <th>retention_7</th>\n",
       "      <td>0.193474</td>\n",
       "      <td>0.183673</td>\n",
       "      <td>5.336004</td>\n",
       "    </tr>\n",
       "    <tr>\n",
       "      <th>retention_7</th>\n",
       "      <td>0.190681</td>\n",
       "      <td>0.182211</td>\n",
       "      <td>4.648720</td>\n",
       "    </tr>\n",
       "    <tr>\n",
       "      <th>retention_7</th>\n",
       "      <td>0.189670</td>\n",
       "      <td>0.181743</td>\n",
       "      <td>4.361636</td>\n",
       "    </tr>\n",
       "    <tr>\n",
       "      <th>retention_7</th>\n",
       "      <td>0.190324</td>\n",
       "      <td>0.181672</td>\n",
       "      <td>4.762365</td>\n",
       "    </tr>\n",
       "    <tr>\n",
       "      <th>...</th>\n",
       "      <td>...</td>\n",
       "      <td>...</td>\n",
       "      <td>...</td>\n",
       "    </tr>\n",
       "    <tr>\n",
       "      <th>retention_7</th>\n",
       "      <td>0.191483</td>\n",
       "      <td>0.178624</td>\n",
       "      <td>7.198813</td>\n",
       "    </tr>\n",
       "    <tr>\n",
       "      <th>retention_7</th>\n",
       "      <td>0.192778</td>\n",
       "      <td>0.180721</td>\n",
       "      <td>6.671810</td>\n",
       "    </tr>\n",
       "    <tr>\n",
       "      <th>retention_7</th>\n",
       "      <td>0.189991</td>\n",
       "      <td>0.183356</td>\n",
       "      <td>3.618806</td>\n",
       "    </tr>\n",
       "    <tr>\n",
       "      <th>retention_7</th>\n",
       "      <td>0.190329</td>\n",
       "      <td>0.184785</td>\n",
       "      <td>3.000082</td>\n",
       "    </tr>\n",
       "    <tr>\n",
       "      <th>retention_7</th>\n",
       "      <td>0.189026</td>\n",
       "      <td>0.183754</td>\n",
       "      <td>2.869027</td>\n",
       "    </tr>\n",
       "  </tbody>\n",
       "</table>\n",
       "<p>500 rows × 3 columns</p>\n",
       "</div>"
      ],
      "text/plain": [
       "version       gate_30   gate_40      diff\n",
       "retention_7  0.189449  0.181926  4.135249\n",
       "retention_7  0.193474  0.183673  5.336004\n",
       "retention_7  0.190681  0.182211  4.648720\n",
       "retention_7  0.189670  0.181743  4.361636\n",
       "retention_7  0.190324  0.181672  4.762365\n",
       "...               ...       ...       ...\n",
       "retention_7  0.191483  0.178624  7.198813\n",
       "retention_7  0.192778  0.180721  6.671810\n",
       "retention_7  0.189991  0.183356  3.618806\n",
       "retention_7  0.190329  0.184785  3.000082\n",
       "retention_7  0.189026  0.183754  2.869027\n",
       "\n",
       "[500 rows x 3 columns]"
      ]
     },
     "execution_count": 125,
     "metadata": {},
     "output_type": "execute_result"
    }
   ],
   "source": [
    "# calculate the percent difference between our two groups\n",
    "boot_7days[\"diff\"] = ((boot_7days[\"gate_30\"] - boot_7days[\"gate_40\"])/ boot_7days[\"gate_40\"]) * 100\n",
    "boot_7days"
   ]
  },
  {
   "cell_type": "code",
   "execution_count": 129,
   "id": "6bc060ec-3c80-4874-82f7-d466c9887a1e",
   "metadata": {},
   "outputs": [
    {
     "data": {
      "image/png": "[encoded data removed]",
      "text/plain": [
       "<Figure size 640x480 with 1 Axes>"
      ]
     },
     "metadata": {},
     "output_type": "display_data"
    }
   ],
   "source": [
    "sns.kdeplot(boot_7days[\"diff\"], fill = True, color = \"navy\")\n",
    "plt.title(\"Bootstrapped 7-Day Retention Percent Difference\")\n",
    "plt.xlabel(\"Percent Difference in Means\")\n",
    "plt.show()"
   ]
  },
  {
   "cell_type": "code",
   "execution_count": 130,
   "id": "218185df-6eb8-43b5-81b3-111e991ac6c6",
   "metadata": {},
   "outputs": [
    {
     "name": "stdout",
     "output_type": "stream",
     "text": [
      "Probability of a difference greater than 0 is 100.0%\n"
     ]
    }
   ],
   "source": [
    "prob = boot_7days[boot_7days[\"diff\"] > 0].shape[0]/len(boot_7days)\n",
    "\n",
    "print(\"Probability of a difference greater than 0 is\", \"{:.1%}\".format(prob))"
   ]
  },
  {
   "cell_type": "code",
   "execution_count": null,
   "id": "ff998235-ccb7-4d2d-b737-75a80add7e22",
   "metadata": {},
   "outputs": [],
   "source": []
  },
  {
   "cell_type": "code",
   "execution_count": null,
   "id": "2f17417d-472e-4f16-8981-729b65db6b02",
   "metadata": {},
   "outputs": [],
   "source": []
  },
  {
   "cell_type": "code",
   "execution_count": null,
   "id": "07c84df0-4470-47df-ba17-11b470b359f8",
   "metadata": {},
   "outputs": [],
   "source": []
  },
  {
   "cell_type": "code",
   "execution_count": null,
   "id": "04911651-05a1-4778-838e-5b0b6252b766",
   "metadata": {},
   "outputs": [],
   "source": []
  },
  {
   "cell_type": "code",
   "execution_count": null,
   "id": "602fa9ef-79ca-4746-872f-5c2f09f61754",
   "metadata": {},
   "outputs": [],
   "source": []
  },
  {
   "cell_type": "code",
   "execution_count": null,
   "id": "03ea3ca8-df24-4bf5-9f1e-29ce4b9c9891",
   "metadata": {},
   "outputs": [],
   "source": []
  }
 ],
 "metadata": {
  "kernelspec": {
   "display_name": "Python 3 (ipykernel)",
   "language": "python",
   "name": "python3"
  },
  "language_info": {
   "codemirror_mode": {
    "name": "ipython",
    "version": 3
   },
   "file_extension": ".py",
   "mimetype": "text/x-python",
   "name": "python",
   "nbconvert_exporter": "python",
   "pygments_lexer": "ipython3",
   "version": "3.9.6"
  }
 },
 "nbformat": 4,
 "nbformat_minor": 5
}
