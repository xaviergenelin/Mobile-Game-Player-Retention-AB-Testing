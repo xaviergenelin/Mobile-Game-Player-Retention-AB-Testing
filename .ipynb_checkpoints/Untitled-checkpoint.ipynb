{
 "cells": [
  {
   "cell_type": "markdown",
   "id": "9cbd5502-334f-4ebe-b728-d033f30b0d99",
   "metadata": {},
   "source": [
    "# Analyzing Player Retention\n",
    "\n",
    "This project will examine the mobile puzzle game Cookie Cats. At certain points of the game, a player will occasionally encounter a gate that forces them to wait for a period of time or make an in app purchase to progress further. This is a strategy intended to enhance overall enjoyment by pacing the gameplay and giving players an enforced break from playing the game. \n",
    "\n",
    "Where should the gate be placed? Initially, the gate was placed at level 30 but the company wanted to conduct an A/B Test where the gate was moved from level 30 to level 40 to test for player retention. When a player installed the game, they were randomly assigned to either gate 30 or gate 40."
   ]
  },
  {
   "cell_type": "code",
   "execution_count": 2,
   "id": "ae121838-dfab-4cec-8d8f-764c49da4f53",
   "metadata": {},
   "outputs": [],
   "source": [
    "# import necessary libraries\n",
    "import pandas as pd\n",
    "import numpy as np\n",
    "import matplotlib.pyplot as plt\n",
    "import seaborn as sns\n",
    "import scipy.stats as stats"
   ]
  },
  {
   "cell_type": "markdown",
   "id": "ee038b54-606c-4f86-92b3-d93411c22e2c",
   "metadata": {},
   "source": [
    "## Data Cleaning and EDA\n",
    "\n",
    "First, we will load in the dataset and explore it to better understand what we are working with."
   ]
  },
  {
   "cell_type": "code",
   "execution_count": 3,
   "id": "8821b4a4-f64e-4b70-a6b8-d551373d27aa",
   "metadata": {},
   "outputs": [
    {
     "data": {
      "text/html": [
       "<div>\n",
       "<style scoped>\n",
       "    .dataframe tbody tr th:only-of-type {\n",
       "        vertical-align: middle;\n",
       "    }\n",
       "\n",
       "    .dataframe tbody tr th {\n",
       "        vertical-align: top;\n",
       "    }\n",
       "\n",
       "    .dataframe thead th {\n",
       "        text-align: right;\n",
       "    }\n",
       "</style>\n",
       "<table border=\"1\" class=\"dataframe\">\n",
       "  <thead>\n",
       "    <tr style=\"text-align: right;\">\n",
       "      <th></th>\n",
       "      <th>userid</th>\n",
       "      <th>version</th>\n",
       "      <th>sum_gamerounds</th>\n",
       "      <th>retention_1</th>\n",
       "      <th>retention_7</th>\n",
       "    </tr>\n",
       "  </thead>\n",
       "  <tbody>\n",
       "    <tr>\n",
       "      <th>0</th>\n",
       "      <td>116</td>\n",
       "      <td>gate_30</td>\n",
       "      <td>3</td>\n",
       "      <td>False</td>\n",
       "      <td>False</td>\n",
       "    </tr>\n",
       "    <tr>\n",
       "      <th>1</th>\n",
       "      <td>337</td>\n",
       "      <td>gate_30</td>\n",
       "      <td>38</td>\n",
       "      <td>True</td>\n",
       "      <td>False</td>\n",
       "    </tr>\n",
       "    <tr>\n",
       "      <th>2</th>\n",
       "      <td>377</td>\n",
       "      <td>gate_40</td>\n",
       "      <td>165</td>\n",
       "      <td>True</td>\n",
       "      <td>False</td>\n",
       "    </tr>\n",
       "    <tr>\n",
       "      <th>3</th>\n",
       "      <td>483</td>\n",
       "      <td>gate_40</td>\n",
       "      <td>1</td>\n",
       "      <td>False</td>\n",
       "      <td>False</td>\n",
       "    </tr>\n",
       "    <tr>\n",
       "      <th>4</th>\n",
       "      <td>488</td>\n",
       "      <td>gate_40</td>\n",
       "      <td>179</td>\n",
       "      <td>True</td>\n",
       "      <td>True</td>\n",
       "    </tr>\n",
       "  </tbody>\n",
       "</table>\n",
       "</div>"
      ],
      "text/plain": [
       "   userid  version  sum_gamerounds  retention_1  retention_7\n",
       "0     116  gate_30               3        False        False\n",
       "1     337  gate_30              38         True        False\n",
       "2     377  gate_40             165         True        False\n",
       "3     483  gate_40               1        False        False\n",
       "4     488  gate_40             179         True         True"
      ]
     },
     "execution_count": 3,
     "metadata": {},
     "output_type": "execute_result"
    }
   ],
   "source": [
    "# load in the data\n",
    "df = pd.read_csv(\"cookie_cats.csv\")\n",
    "\n",
    "# look at the first 5 rows\n",
    "df.head()"
   ]
  },
  {
   "cell_type": "code",
   "execution_count": 4,
   "id": "35c62d2e-a544-4eae-ad5d-e61c19517031",
   "metadata": {},
   "outputs": [
    {
     "name": "stdout",
     "output_type": "stream",
     "text": [
      "Total rows: 90189\n"
     ]
    }
   ],
   "source": [
    "# total number of observations\n",
    "print(\"Total rows:\", len(df))"
   ]
  },
  {
   "cell_type": "code",
   "execution_count": 5,
   "id": "0f155988-32f7-4b00-a637-22e04544e431",
   "metadata": {},
   "outputs": [
    {
     "name": "stdout",
     "output_type": "stream",
     "text": [
      "<class 'pandas.core.frame.DataFrame'>\n",
      "RangeIndex: 90189 entries, 0 to 90188\n",
      "Data columns (total 5 columns):\n",
      " #   Column          Non-Null Count  Dtype \n",
      "---  ------          --------------  ----- \n",
      " 0   userid          90189 non-null  int64 \n",
      " 1   version         90189 non-null  object\n",
      " 2   sum_gamerounds  90189 non-null  int64 \n",
      " 3   retention_1     90189 non-null  bool  \n",
      " 4   retention_7     90189 non-null  bool  \n",
      "dtypes: bool(2), int64(2), object(1)\n",
      "memory usage: 2.2+ MB\n"
     ]
    }
   ],
   "source": [
    "# check the data types of each variable and look for some missing values that may need to be investigated\n",
    "df.info()"
   ]
  },
  {
   "cell_type": "markdown",
   "id": "787d11c3-2b29-43a2-8d1d-7ff19b53506f",
   "metadata": {},
   "source": [
    "There doesn't look to be any missing values in any column.\n",
    "\n",
    "We should check that each observation is a different user or if there are duplicates in the data."
   ]
  },
  {
   "cell_type": "code",
   "execution_count": 6,
   "id": "c723a455-6bfd-4ed0-a5a2-0ae0e4a1ad05",
   "metadata": {},
   "outputs": [
    {
     "data": {
      "text/plain": [
       "90189"
      ]
     },
     "execution_count": 6,
     "metadata": {},
     "output_type": "execute_result"
    }
   ],
   "source": [
    "# check the number of unique users\n",
    "df[\"userid\"].nunique()"
   ]
  },
  {
   "cell_type": "markdown",
   "id": "9bb12546-4b12-4390-b371-0d50fa129b7c",
   "metadata": {},
   "source": [
    "It looks like we don't have duplicate users!\n",
    "\n",
    "Next we will check if the version groupings are similar for our A/B Test."
   ]
  },
  {
   "cell_type": "code",
   "execution_count": 7,
   "id": "1e463d87-bcfe-40de-9961-80c271281427",
   "metadata": {},
   "outputs": [
    {
     "data": {
      "text/plain": [
       "version\n",
       "gate_30    44700\n",
       "gate_40    45489\n",
       "Name: version, dtype: int64"
      ]
     },
     "execution_count": 7,
     "metadata": {},
     "output_type": "execute_result"
    }
   ],
   "source": [
    "# check if groupings are rougly similar\n",
    "df.groupby(\"version\")[\"version\"].count()"
   ]
  },
  {
   "cell_type": "markdown",
   "id": "a1f025c8-c52a-48c4-82e0-02622321baf7",
   "metadata": {},
   "source": [
    "Both versions look to be similar!\n",
    "\n",
    "The main purpose is player retention, so we can look into how many rounds users have played during the first week of the game"
   ]
  },
  {
   "cell_type": "code",
   "execution_count": 8,
   "id": "3a814ecf-c6b9-454f-904a-b383ccddab1f",
   "metadata": {},
   "outputs": [
    {
     "data": {
      "text/html": [
       "<div>\n",
       "<style scoped>\n",
       "    .dataframe tbody tr th:only-of-type {\n",
       "        vertical-align: middle;\n",
       "    }\n",
       "\n",
       "    .dataframe tbody tr th {\n",
       "        vertical-align: top;\n",
       "    }\n",
       "\n",
       "    .dataframe thead th {\n",
       "        text-align: right;\n",
       "    }\n",
       "</style>\n",
       "<table border=\"1\" class=\"dataframe\">\n",
       "  <thead>\n",
       "    <tr style=\"text-align: right;\">\n",
       "      <th></th>\n",
       "      <th>userid</th>\n",
       "      <th>version</th>\n",
       "      <th>sum_gamerounds</th>\n",
       "      <th>retention_1</th>\n",
       "      <th>retention_7</th>\n",
       "    </tr>\n",
       "  </thead>\n",
       "  <tbody>\n",
       "    <tr>\n",
       "      <th>0</th>\n",
       "      <td>116</td>\n",
       "      <td>gate_30</td>\n",
       "      <td>3</td>\n",
       "      <td>False</td>\n",
       "      <td>False</td>\n",
       "    </tr>\n",
       "    <tr>\n",
       "      <th>1</th>\n",
       "      <td>337</td>\n",
       "      <td>gate_30</td>\n",
       "      <td>38</td>\n",
       "      <td>True</td>\n",
       "      <td>False</td>\n",
       "    </tr>\n",
       "    <tr>\n",
       "      <th>2</th>\n",
       "      <td>377</td>\n",
       "      <td>gate_40</td>\n",
       "      <td>165</td>\n",
       "      <td>True</td>\n",
       "      <td>False</td>\n",
       "    </tr>\n",
       "    <tr>\n",
       "      <th>3</th>\n",
       "      <td>483</td>\n",
       "      <td>gate_40</td>\n",
       "      <td>1</td>\n",
       "      <td>False</td>\n",
       "      <td>False</td>\n",
       "    </tr>\n",
       "    <tr>\n",
       "      <th>4</th>\n",
       "      <td>488</td>\n",
       "      <td>gate_40</td>\n",
       "      <td>179</td>\n",
       "      <td>True</td>\n",
       "      <td>True</td>\n",
       "    </tr>\n",
       "    <tr>\n",
       "      <th>...</th>\n",
       "      <td>...</td>\n",
       "      <td>...</td>\n",
       "      <td>...</td>\n",
       "      <td>...</td>\n",
       "      <td>...</td>\n",
       "    </tr>\n",
       "    <tr>\n",
       "      <th>90184</th>\n",
       "      <td>9999441</td>\n",
       "      <td>gate_40</td>\n",
       "      <td>97</td>\n",
       "      <td>True</td>\n",
       "      <td>False</td>\n",
       "    </tr>\n",
       "    <tr>\n",
       "      <th>90185</th>\n",
       "      <td>9999479</td>\n",
       "      <td>gate_40</td>\n",
       "      <td>30</td>\n",
       "      <td>False</td>\n",
       "      <td>False</td>\n",
       "    </tr>\n",
       "    <tr>\n",
       "      <th>90186</th>\n",
       "      <td>9999710</td>\n",
       "      <td>gate_30</td>\n",
       "      <td>28</td>\n",
       "      <td>True</td>\n",
       "      <td>False</td>\n",
       "    </tr>\n",
       "    <tr>\n",
       "      <th>90187</th>\n",
       "      <td>9999768</td>\n",
       "      <td>gate_40</td>\n",
       "      <td>51</td>\n",
       "      <td>True</td>\n",
       "      <td>False</td>\n",
       "    </tr>\n",
       "    <tr>\n",
       "      <th>90188</th>\n",
       "      <td>9999861</td>\n",
       "      <td>gate_40</td>\n",
       "      <td>16</td>\n",
       "      <td>False</td>\n",
       "      <td>False</td>\n",
       "    </tr>\n",
       "  </tbody>\n",
       "</table>\n",
       "<p>90189 rows × 5 columns</p>\n",
       "</div>"
      ],
      "text/plain": [
       "        userid  version  sum_gamerounds  retention_1  retention_7\n",
       "0          116  gate_30               3        False        False\n",
       "1          337  gate_30              38         True        False\n",
       "2          377  gate_40             165         True        False\n",
       "3          483  gate_40               1        False        False\n",
       "4          488  gate_40             179         True         True\n",
       "...        ...      ...             ...          ...          ...\n",
       "90184  9999441  gate_40              97         True        False\n",
       "90185  9999479  gate_40              30        False        False\n",
       "90186  9999710  gate_30              28         True        False\n",
       "90187  9999768  gate_40              51         True        False\n",
       "90188  9999861  gate_40              16        False        False\n",
       "\n",
       "[90189 rows x 5 columns]"
      ]
     },
     "execution_count": 8,
     "metadata": {},
     "output_type": "execute_result"
    }
   ],
   "source": [
    "df"
   ]
  },
  {
   "cell_type": "code",
   "execution_count": 9,
   "id": "87ede218-46c0-40fd-8a2b-209d33a7164c",
   "metadata": {},
   "outputs": [
    {
     "data": {
      "text/html": [
       "<div>\n",
       "<style scoped>\n",
       "    .dataframe tbody tr th:only-of-type {\n",
       "        vertical-align: middle;\n",
       "    }\n",
       "\n",
       "    .dataframe tbody tr th {\n",
       "        vertical-align: top;\n",
       "    }\n",
       "\n",
       "    .dataframe thead th {\n",
       "        text-align: right;\n",
       "    }\n",
       "</style>\n",
       "<table border=\"1\" class=\"dataframe\">\n",
       "  <thead>\n",
       "    <tr style=\"text-align: right;\">\n",
       "      <th></th>\n",
       "      <th>sum_gamerounds</th>\n",
       "      <th>userid</th>\n",
       "    </tr>\n",
       "  </thead>\n",
       "  <tbody>\n",
       "    <tr>\n",
       "      <th>0</th>\n",
       "      <td>0</td>\n",
       "      <td>3994</td>\n",
       "    </tr>\n",
       "    <tr>\n",
       "      <th>1</th>\n",
       "      <td>1</td>\n",
       "      <td>5538</td>\n",
       "    </tr>\n",
       "    <tr>\n",
       "      <th>2</th>\n",
       "      <td>2</td>\n",
       "      <td>4606</td>\n",
       "    </tr>\n",
       "    <tr>\n",
       "      <th>3</th>\n",
       "      <td>3</td>\n",
       "      <td>3958</td>\n",
       "    </tr>\n",
       "    <tr>\n",
       "      <th>4</th>\n",
       "      <td>4</td>\n",
       "      <td>3629</td>\n",
       "    </tr>\n",
       "    <tr>\n",
       "      <th>...</th>\n",
       "      <td>...</td>\n",
       "      <td>...</td>\n",
       "    </tr>\n",
       "    <tr>\n",
       "      <th>937</th>\n",
       "      <td>2294</td>\n",
       "      <td>1</td>\n",
       "    </tr>\n",
       "    <tr>\n",
       "      <th>938</th>\n",
       "      <td>2438</td>\n",
       "      <td>1</td>\n",
       "    </tr>\n",
       "    <tr>\n",
       "      <th>939</th>\n",
       "      <td>2640</td>\n",
       "      <td>1</td>\n",
       "    </tr>\n",
       "    <tr>\n",
       "      <th>940</th>\n",
       "      <td>2961</td>\n",
       "      <td>1</td>\n",
       "    </tr>\n",
       "    <tr>\n",
       "      <th>941</th>\n",
       "      <td>49854</td>\n",
       "      <td>1</td>\n",
       "    </tr>\n",
       "  </tbody>\n",
       "</table>\n",
       "<p>942 rows × 2 columns</p>\n",
       "</div>"
      ],
      "text/plain": [
       "     sum_gamerounds  userid\n",
       "0                 0    3994\n",
       "1                 1    5538\n",
       "2                 2    4606\n",
       "3                 3    3958\n",
       "4                 4    3629\n",
       "..              ...     ...\n",
       "937            2294       1\n",
       "938            2438       1\n",
       "939            2640       1\n",
       "940            2961       1\n",
       "941           49854       1\n",
       "\n",
       "[942 rows x 2 columns]"
      ]
     },
     "execution_count": 9,
     "metadata": {},
     "output_type": "execute_result"
    }
   ],
   "source": [
    "# count the number of users that cleared a certain number of rounds\n",
    "roundsPlayed = df.groupby(\"sum_gamerounds\")[\"userid\"].count().reset_index()\n",
    "roundsPlayed"
   ]
  },
  {
   "cell_type": "code",
   "execution_count": 10,
   "id": "0614908d-d8f1-40f1-a960-ebb0f2a3272a",
   "metadata": {},
   "outputs": [
    {
     "data": {
      "text/plain": [
       "count      942.000000\n",
       "mean       584.921444\n",
       "std       1656.069688\n",
       "min          0.000000\n",
       "25%        235.250000\n",
       "50%        470.500000\n",
       "75%        726.750000\n",
       "max      49854.000000\n",
       "Name: sum_gamerounds, dtype: float64"
      ]
     },
     "execution_count": 10,
     "metadata": {},
     "output_type": "execute_result"
    }
   ],
   "source": [
    "# check the descriptive statistics for sum_gamerounds\n",
    "roundsPlayed[\"sum_gamerounds\"].describe()"
   ]
  },
  {
   "cell_type": "markdown",
   "id": "3c6550f8-da1b-436f-bd34-e63518440ebf",
   "metadata": {},
   "source": [
    "With a mean higher than the median, our data is a bit right skewed. We can double check this with a plot"
   ]
  },
  {
   "cell_type": "code",
   "execution_count": 19,
   "id": "3c8e45c0-5960-40fe-8139-f797ccb62d42",
   "metadata": {},
   "outputs": [
    {
     "data": {
      "text/plain": [
       "Text(0, 0.5, 'Number of Players')"
      ]
     },
     "execution_count": 19,
     "metadata": {},
     "output_type": "execute_result"
    },
    {
     "data": {
      "image/png": "[encoded data removed]",
      "text/plain": [
       "<Figure size 1440x360 with 1 Axes>"
      ]
     },
     "metadata": {
      "needs_background": "light"
     },
     "output_type": "display_data"
    }
   ],
   "source": [
    "# plot all users for number of rounds played\n",
    "fig = plt.subplots(figsize = (20, 5))\n",
    "sns.lineplot(data = roundsPlayed, x = \"sum_gamerounds\", y = \"userid\")\n",
    "plt.title(\"Game Rounds Played by Players\")\n",
    "plt.xlabel(\"Game Rounds Played\")\n",
    "plt.ylabel(\"Number of Players\")"
   ]
  },
  {
   "cell_type": "markdown",
   "id": "6de85c0b-c391-4e8c-8add-c777d495487e",
   "metadata": {},
   "source": [
    "Very Right skewed with some outliers compared to other players. We will condense the data a bit to better see the peak on the left side of the graph and understand what is going on. We'll look at users that played less than 100 rounds and users that played less than 50 rounds."
   ]
  },
  {
   "cell_type": "code",
   "execution_count": 34,
   "id": "fb021273-24ce-4b14-9e3d-08bebd0019c7",
   "metadata": {},
   "outputs": [
    {
     "data": {
      "text/plain": [
       "Text(0, 0.5, 'Number of Players')"
      ]
     },
     "execution_count": 34,
     "metadata": {},
     "output_type": "execute_result"
    },
    {
     "data": {
      "image/png": "[encoded data removed]",
      "text/plain": [
       "<Figure size 720x360 with 1 Axes>"
      ]
     },
     "metadata": {
      "needs_background": "light"
     },
     "output_type": "display_data"
    }
   ],
   "source": [
    "# plot users that played less than 100 rounds\n",
    "fig = plt.subplots(figsize = (10, 5))\n",
    "sns.lineplot(data = roundsPlayed.head(100), x = \"sum_gamerounds\", y = \"userid\")\n",
    "plt.title(\"Game Rounds Played by Players\")\n",
    "plt.xlabel(\"Game Rounds Played\")\n",
    "plt.ylabel(\"Number of Players\")"
   ]
  },
  {
   "cell_type": "code",
   "execution_count": 33,
   "id": "7fd5a493-7eb8-4aa3-a3b5-3e32a613bd94",
   "metadata": {},
   "outputs": [
    {
     "data": {
      "text/plain": [
       "Text(0, 0.5, 'Number of Players')"
      ]
     },
     "execution_count": 33,
     "metadata": {},
     "output_type": "execute_result"
    },
    {
     "data": {
      "image/png": "[encoded data removed]",
      "text/plain": [
       "<Figure size 720x360 with 1 Axes>"
      ]
     },
     "metadata": {
      "needs_background": "light"
     },
     "output_type": "display_data"
    }
   ],
   "source": [
    "# plot users that played less than 50 rounds\n",
    "fig = plt.subplots(figsize = (10, 5))\n",
    "sns.barplot(data = roundsPlayed.head(50), x = \"sum_gamerounds\", y = \"userid\")\n",
    "plt.title(\"Game Rounds Played by Players\")\n",
    "plt.xlabel(\"Game Rounds Played\")\n",
    "plt.xticks(rotation = 90)\n",
    "plt.ylabel(\"Number of Players\")"
   ]
  },
  {
   "cell_type": "markdown",
   "id": "b9bf5973-a09f-42d8-92e7-566f08471edf",
   "metadata": {},
   "source": [
    "There looks to be about 4000 users during this testing period that didn't complete a single level. There is a noticeable decline in users as the number of rounds cleared gets higher, which is understandable. Most users may download a game to try it out and find they don't like it, while some may get hooked! \n",
    "\n",
    "We can also break this out by the number of users that were retained after 1 and 7 days to see if there is any noticeable difference graphically before doing the A/B Tests."
   ]
  },
  {
   "cell_type": "code",
   "execution_count": 38,
   "id": "03bce031-28f8-417a-acb4-5f6207586702",
   "metadata": {},
   "outputs": [
    {
     "data": {
      "text/html": [
       "<div>\n",
       "<style scoped>\n",
       "    .dataframe tbody tr th:only-of-type {\n",
       "        vertical-align: middle;\n",
       "    }\n",
       "\n",
       "    .dataframe tbody tr th {\n",
       "        vertical-align: top;\n",
       "    }\n",
       "\n",
       "    .dataframe thead th {\n",
       "        text-align: right;\n",
       "    }\n",
       "</style>\n",
       "<table border=\"1\" class=\"dataframe\">\n",
       "  <thead>\n",
       "    <tr style=\"text-align: right;\">\n",
       "      <th></th>\n",
       "      <th>sum_gamerounds</th>\n",
       "      <th>retention_1</th>\n",
       "      <th>userid</th>\n",
       "    </tr>\n",
       "  </thead>\n",
       "  <tbody>\n",
       "    <tr>\n",
       "      <th>0</th>\n",
       "      <td>0</td>\n",
       "      <td>False</td>\n",
       "      <td>3907</td>\n",
       "    </tr>\n",
       "    <tr>\n",
       "      <th>1</th>\n",
       "      <td>0</td>\n",
       "      <td>True</td>\n",
       "      <td>87</td>\n",
       "    </tr>\n",
       "    <tr>\n",
       "      <th>2</th>\n",
       "      <td>1</td>\n",
       "      <td>False</td>\n",
       "      <td>5367</td>\n",
       "    </tr>\n",
       "    <tr>\n",
       "      <th>3</th>\n",
       "      <td>1</td>\n",
       "      <td>True</td>\n",
       "      <td>171</td>\n",
       "    </tr>\n",
       "    <tr>\n",
       "      <th>4</th>\n",
       "      <td>2</td>\n",
       "      <td>False</td>\n",
       "      <td>4332</td>\n",
       "    </tr>\n",
       "    <tr>\n",
       "      <th>...</th>\n",
       "      <td>...</td>\n",
       "      <td>...</td>\n",
       "      <td>...</td>\n",
       "    </tr>\n",
       "    <tr>\n",
       "      <th>1315</th>\n",
       "      <td>2294</td>\n",
       "      <td>True</td>\n",
       "      <td>1</td>\n",
       "    </tr>\n",
       "    <tr>\n",
       "      <th>1316</th>\n",
       "      <td>2438</td>\n",
       "      <td>True</td>\n",
       "      <td>1</td>\n",
       "    </tr>\n",
       "    <tr>\n",
       "      <th>1317</th>\n",
       "      <td>2640</td>\n",
       "      <td>True</td>\n",
       "      <td>1</td>\n",
       "    </tr>\n",
       "    <tr>\n",
       "      <th>1318</th>\n",
       "      <td>2961</td>\n",
       "      <td>True</td>\n",
       "      <td>1</td>\n",
       "    </tr>\n",
       "    <tr>\n",
       "      <th>1319</th>\n",
       "      <td>49854</td>\n",
       "      <td>False</td>\n",
       "      <td>1</td>\n",
       "    </tr>\n",
       "  </tbody>\n",
       "</table>\n",
       "<p>1320 rows × 3 columns</p>\n",
       "</div>"
      ],
      "text/plain": [
       "      sum_gamerounds  retention_1  userid\n",
       "0                  0        False    3907\n",
       "1                  0         True      87\n",
       "2                  1        False    5367\n",
       "3                  1         True     171\n",
       "4                  2        False    4332\n",
       "...              ...          ...     ...\n",
       "1315            2294         True       1\n",
       "1316            2438         True       1\n",
       "1317            2640         True       1\n",
       "1318            2961         True       1\n",
       "1319           49854        False       1\n",
       "\n",
       "[1320 rows x 3 columns]"
      ]
     },
     "execution_count": 38,
     "metadata": {},
     "output_type": "execute_result"
    }
   ],
   "source": [
    "# count the number of users that cleared a certain number of rounds and whether they were retained after 1 day\n",
    "gamesPlayed_ret1 = df.groupby([\"sum_gamerounds\", \"retention_1\"])[\"userid\"].count().reset_index()\n",
    "gamesPlayed_ret1"
   ]
  },
  {
   "cell_type": "code",
   "execution_count": 39,
   "id": "c408098d-f459-4220-a606-6df86af3e2eb",
   "metadata": {},
   "outputs": [
    {
     "data": {
      "text/plain": [
       "Text(0, 0.5, 'Number of Players')"
      ]
     },
     "execution_count": 39,
     "metadata": {},
     "output_type": "execute_result"
    },
    {
     "data": {
      "image/png": "[encoded data removed]",
      "text/plain": [
       "<Figure size 720x360 with 1 Axes>"
      ]
     },
     "metadata": {
      "needs_background": "light"
     },
     "output_type": "display_data"
    }
   ],
   "source": [
    "# plot users that played less than 50 rounds grouped by whether they were retained after 1 day\n",
    "fig = plt.subplots(figsize = (10, 5))\n",
    "sns.barplot(data = gamesPlayed_ret1.head(50), x = \"sum_gamerounds\", y = \"userid\", hue = \"retention_1\")\n",
    "plt.title(\"Game Rounds Played by Players\")\n",
    "plt.xlabel(\"Game Rounds Played\")\n",
    "plt.xticks(rotation = 90)\n",
    "plt.ylabel(\"Number of Players\")"
   ]
  },
  {
   "cell_type": "code",
   "execution_count": null,
   "id": "6ca23d25-db63-4c56-84f5-90c3e18357a3",
   "metadata": {},
   "outputs": [],
   "source": [
    "# count the number of users that cleared a certain number of rounds and whether they were retained after 7 days\n",
    "gamesPlayed_ret1 = df.groupby([\"sum_gamerounds\", \"retention_7\"])[\"userid\"].count().reset_index()"
   ]
  },
  {
   "cell_type": "code",
   "execution_count": null,
   "id": "8cbd909e-d2fa-4bdf-93b0-9bbb6e4f6fb1",
   "metadata": {},
   "outputs": [],
   "source": []
  },
  {
   "cell_type": "code",
   "execution_count": null,
   "id": "3070d178-66f5-4f6d-8882-33069c68fc44",
   "metadata": {},
   "outputs": [],
   "source": []
  }
 ],
 "metadata": {
  "kernelspec": {
   "display_name": "Python 3 (ipykernel)",
   "language": "python",
   "name": "python3"
  },
  "language_info": {
   "codemirror_mode": {
    "name": "ipython",
    "version": 3
   },
   "file_extension": ".py",
   "mimetype": "text/x-python",
   "name": "python",
   "nbconvert_exporter": "python",
   "pygments_lexer": "ipython3",
   "version": "3.9.6"
  }
 },
 "nbformat": 4,
 "nbformat_minor": 5
}
